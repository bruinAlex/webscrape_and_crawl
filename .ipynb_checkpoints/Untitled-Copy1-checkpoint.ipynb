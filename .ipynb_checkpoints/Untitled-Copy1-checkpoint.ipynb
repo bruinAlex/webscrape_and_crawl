{
 "cells": [
  {
   "cell_type": "markdown",
   "metadata": {},
   "source": [
    "Scraping Tutorial\n",
    "https://www.youtube.com/watch?v=XjNm9bazxn8&index=5&list=WL"
   ]
  },
  {
   "cell_type": "code",
   "execution_count": 1,
   "metadata": {
    "collapsed": true
   },
   "outputs": [],
   "source": [
    "import requests\n",
    "from bs4 import BeautifulSoup"
   ]
  },
  {
   "cell_type": "code",
   "execution_count": null,
   "metadata": {},
   "outputs": [],
   "source": [
    "def the_numbers_spider(max_pages):\n",
    "    # Basic BS4 test to find our table data. Returns too much stuff.\n",
    "    page = 1\n",
    "    while page <= max_pages:\n",
    "        url = \"http://www.the-numbers.com/box-office-chart/weekly/1991/12/27\"\n",
    "        source_code = requests.get(url)\n",
    "        plain_text = source_code.text\n",
    "        soup = BeautifulSoup(plain_text, 'lxml')\n",
    "        \n",
    "        for tableData in soup.find_all('div', {'id': 'page_filling_chart'})[1]:\n",
    "            soup2 = BeautifulSoup(tableData, 'lxml') # Create a new soup with the find_all method available\n",
    "            rowData = soup2.find_all('td')\n",
    "            print(type(rowData))\n",
    "#             title = link.get('title')\n",
    "            print(rowData)\n",
    "#             get_single_item_data(href)\n",
    "            \n",
    "        page += 1\n"
   ]
  },
  {
   "cell_type": "code",
   "execution_count": null,
   "metadata": {},
   "outputs": [],
   "source": [
    "def the_numbers_spider(max_pages):\n",
    "    # Parent Test. This returns the table we want, but still has extra header info we don't want.\n",
    "    page = 1\n",
    "    while page <= max_pages:\n",
    "        url = \"http://www.the-numbers.com/box-office-chart/weekly/1991/12/27\"\n",
    "        source_code = requests.get(url)\n",
    "        plain_text = source_code.text\n",
    "        soup = BeautifulSoup(plain_text, 'lxml')\n",
    "        \n",
    "        parentEl = soup.find('td', {'class': 'data'}).parent.parent\n",
    "#             soup2 = BeautifulSoup(tableData, 'lxml') # Create a new soup with the find_all method available\n",
    "#             rowData = soup2.find_all('td')\n",
    "#             print(type(rowData))\n",
    "#             href = \"http://www.imagefap.com\" + link.get('href')\n",
    "#             title = link.get('title')\n",
    "        print(parentEl)\n",
    "    \n",
    "#             get_single_item_data(href)\n",
    "            \n",
    "        page += 1\n"
   ]
  },
  {
   "cell_type": "code",
   "execution_count": 22,
   "metadata": {
    "collapsed": true
   },
   "outputs": [],
   "source": [
    "def the_numbers_spider(max_pages):\n",
    "    # BS4 pulls the table, converts the results into a string, then recreates a new soup so that the text method can be run on it.\n",
    "    page = 1\n",
    "    while page <= max_pages:\n",
    "        url = \"http://www.the-numbers.com/box-office-chart/weekly/1991/12/27\"\n",
    "        source_code = requests.get(url)\n",
    "        plain_text = source_code.text\n",
    "        soup = BeautifulSoup(plain_text, 'lxml')\n",
    "        \n",
    "        parentEl = soup.find('td', {'class': 'data'}).parent\n",
    "#             soup2 = BeautifulSoup(tableData, 'lxml') # Create a new soup with the find_all method available\n",
    "#             rowData = soup2.find_all('td')\n",
    "#             print(type(rowData))\n",
    "\n",
    "        containerList = []\n",
    "\n",
    "        for siblings in parentEl.next_siblings:\n",
    "#             print(type(siblings))\n",
    "#             print(siblings)\n",
    "            containerList.append(str(siblings))\n",
    "        \n",
    "        stringList = ''.join(containerList)\n",
    "\n",
    "#         print(containerList)\n",
    "        soup2 = BeautifulSoup(stringList, 'lxml')\n",
    "        \n",
    "#         print(soup2)\n",
    "#         print(soup2.text)\n",
    "#         print(parentEl.next_siblings)\n",
    "    \n",
    "#             get_single_item_data(href)\n",
    "            \n",
    "        page += 1\n",
    "        \n",
    "    with open('numbers_test.txt', mode='wt', encoding='utf-8') as file:\n",
    "        file.write(soup2.text)\n",
    "        \n",
    "    print(\"done!\")"
   ]
  },
  {
   "cell_type": "code",
   "execution_count": 21,
   "metadata": {},
   "outputs": [],
   "source": [
    "the_numbers_spider(1)"
   ]
  },
  {
   "cell_type": "code",
   "execution_count": null,
   "metadata": {
    "collapsed": true
   },
   "outputs": [],
   "source": [
    "def get_single_item_data(item_url):\n",
    "    source_code = requests.get(item_url)\n",
    "    plain_text = source_code.text\n",
    "    soup = BeautifulSoup(plain_text)\n",
    "    \n",
    "    for item_name in soup.findAll('div', {'id': 'cnt_cats'}):\n",
    "        links = item_name.find('a').contents[0]\n",
    "        print(links)"
   ]
  },
  {
   "cell_type": "code",
   "execution_count": null,
   "metadata": {},
   "outputs": [],
   "source": [
    "trade_spider(2)"
   ]
  },
  {
   "cell_type": "code",
   "execution_count": null,
   "metadata": {
    "collapsed": true
   },
   "outputs": [],
   "source": []
  }
 ],
 "metadata": {
  "kernelspec": {
   "display_name": "Python 3",
   "language": "python",
   "name": "python3"
  },
  "language_info": {
   "codemirror_mode": {
    "name": "ipython",
    "version": 3
   },
   "file_extension": ".py",
   "mimetype": "text/x-python",
   "name": "python",
   "nbconvert_exporter": "python",
   "pygments_lexer": "ipython3",
   "version": "3.6.1"
  }
 },
 "nbformat": 4,
 "nbformat_minor": 2
}
