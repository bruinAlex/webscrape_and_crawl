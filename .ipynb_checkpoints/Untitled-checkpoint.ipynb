{
 "cells": [
  {
   "cell_type": "markdown",
   "metadata": {},
   "source": [
    "Scraping Tutorial\n",
    "https://www.youtube.com/watch?v=XjNm9bazxn8&index=5&list=WL"
   ]
  },
  {
   "cell_type": "code",
   "execution_count": 4,
   "metadata": {},
   "outputs": [],
   "source": [
    "import requests\n",
    "from bs4 import BeautifulSoup"
   ]
  },
  {
   "cell_type": "code",
   "execution_count": 20,
   "metadata": {
    "collapsed": true
   },
   "outputs": [],
   "source": [
    "def trade_spider(max_pages):\n",
    "    page = 1\n",
    "    while page < max_pages:\n",
    "        url = \"http://www.imagefap.com/gallery.php?type=1&gen=44&userid=&search=&page=\" + str(page)\n",
    "        source_code = requests.get(url)\n",
    "        plain_text = source_code.text\n",
    "        soup = BeautifulSoup(plain_text)\n",
    "        \n",
    "        for link in soup.findAll('a', {'class': 'gal_title'}):\n",
    "            href = \"http://www.imagefap.com\" + link.get('href')\n",
    "            title = link.get('title')\n",
    "#             print(href)\n",
    "            get_single_item_data(href)\n",
    "            \n",
    "        page += 1\n"
   ]
  },
  {
   "cell_type": "code",
   "execution_count": 19,
   "metadata": {},
   "outputs": [
    {
     "name": "stderr",
     "output_type": "stream",
     "text": [
      "C:\\ProgramData\\Anaconda3\\lib\\site-packages\\bs4\\__init__.py:181: UserWarning: No parser was explicitly specified, so I'm using the best available HTML parser for this system (\"lxml\"). This usually isn't a problem, but if you run this code on another system, or in a different virtual environment, it may use a different parser and behave differently.\n",
      "\n",
      "The code that caused this warning is on line 193 of the file C:\\ProgramData\\Anaconda3\\lib\\runpy.py. To get rid of this warning, change code that looks like this:\n",
      "\n",
      " BeautifulSoup(YOUR_MARKUP})\n",
      "\n",
      "to this:\n",
      "\n",
      " BeautifulSoup(YOUR_MARKUP, \"lxml\")\n",
      "\n",
      "  markup_type=markup_type))\n"
     ]
    },
    {
     "name": "stdout",
     "output_type": "stream",
     "text": [
      "http://www.imagefap.com/gallery.php?gid=7083896\n",
      "http://www.imagefap.com/profile/sexypanda50\n",
      "http://www.imagefap.com/gallery.php?gid=7083823\n",
      "http://www.imagefap.com/profile/Lambda21\n",
      "http://www.imagefap.com/gallery.php?gid=7083758\n",
      "http://www.imagefap.com/profile/SatinLover7\n",
      "http://www.imagefap.com/gallery.php?gid=7083497\n",
      "http://www.imagefap.com/profile/susiwil666\n",
      "http://www.imagefap.com/gallery.php?gid=7083356\n",
      "http://www.imagefap.com/profile/maleheart\n",
      "http://www.imagefap.com/gallery.php?gid=7082970\n",
      "http://www.imagefap.com/profile/Dirndlwilderer\n",
      "http://www.imagefap.com/gallery.php?gid=7082335\n",
      "http://www.imagefap.com/profile/pomelo123\n",
      "http://www.imagefap.com/gallery.php?gid=7082217\n",
      "http://www.imagefap.com/profile/streetdogey\n",
      "http://www.imagefap.com/gallery.php?gid=7082197\n",
      "http://www.imagefap.com/profile/partners_in_porn\n",
      "http://www.imagefap.com/gallery.php?gid=7081681\n",
      "http://www.imagefap.com/profile/Another_Pervert\n",
      "http://www.imagefap.com/gallery.php?gid=7080148\n",
      "http://www.imagefap.com/profile/Serpentinestyle\n",
      "http://www.imagefap.com/gallery.php?gid=7079751\n",
      "http://www.imagefap.com/profile/fruhrhope\n",
      "http://www.imagefap.com/gallery.php?gid=7079743\n",
      "http://www.imagefap.com/profile/fruhrhope\n",
      "http://www.imagefap.com/gallery.php?gid=7079730\n",
      "http://www.imagefap.com/profile/fruhrhope\n",
      "http://www.imagefap.com/gallery.php?gid=7079158\n",
      "http://www.imagefap.com/profile/winston777\n",
      "http://www.imagefap.com/gallery.php?gid=7079045\n",
      "http://www.imagefap.com/profile/StaceyDoesPorn\n",
      "http://www.imagefap.com/gallery.php?gid=7077956\n",
      "http://www.imagefap.com/profile/Trinity55\n",
      "http://www.imagefap.com/gallery.php?gid=7077493\n",
      "http://www.imagefap.com/profile/susiwil666\n",
      "http://www.imagefap.com/gallery.php?gid=7077456\n",
      "http://www.imagefap.com/profile/susiwil666\n",
      "http://www.imagefap.com/gallery.php?gid=7077396\n",
      "http://www.imagefap.com/profile/scuttle\n",
      "http://www.imagefap.com/gallery.php?gid=7076572\n",
      "http://www.imagefap.com/profile/fruhrhope\n",
      "http://www.imagefap.com/gallery.php?gid=7075966\n",
      "http://www.imagefap.com/profile/baseball1003\n",
      "http://www.imagefap.com/gallery.php?gid=7075474\n",
      "http://www.imagefap.com/profile/Dirndlwilderer\n",
      "http://www.imagefap.com/gallery.php?gid=7075167\n",
      "http://www.imagefap.com/profile/zbima\n",
      "http://www.imagefap.com/gallery.php?gid=7075144\n",
      "http://www.imagefap.com/profile/zbima\n",
      "http://www.imagefap.com/gallery.php?gid=7074557\n",
      "http://www.imagefap.com/profile/Nagasaki2012\n",
      "http://www.imagefap.com/gallery.php?gid=7073681\n",
      "http://www.imagefap.com/profile/apf666_2\n",
      "http://www.imagefap.com/gallery.php?gid=7073502\n",
      "http://www.imagefap.com/profile/streetdogey\n",
      "http://www.imagefap.com/gallery.php?gid=7073223\n",
      "http://www.imagefap.com/profile/purdie\n",
      "http://www.imagefap.com/gallery.php?gid=7072962\n",
      "http://www.imagefap.com/profile/apf666_2\n",
      "http://www.imagefap.com/gallery.php?gid=7072771\n",
      "http://www.imagefap.com/profile/bluesmoker\n",
      "http://www.imagefap.com/gallery.php?gid=7072708\n",
      "http://www.imagefap.com/profile/lipian\n",
      "http://www.imagefap.com/gallery.php?gid=7072572\n",
      "http://www.imagefap.com/profile/exhib5959\n",
      "http://www.imagefap.com/gallery.php?gid=7071892\n",
      "http://www.imagefap.com/profile/babedu13\n",
      "http://www.imagefap.com/gallery.php?gid=7071281\n",
      "http://www.imagefap.com/profile/pomelo123\n",
      "http://www.imagefap.com/gallery.php?gid=7070540\n",
      "http://www.imagefap.com/profile/mimil37\n",
      "http://www.imagefap.com/gallery.php?gid=7070290\n",
      "http://www.imagefap.com/profile/Matezy\n",
      "http://www.imagefap.com/gallery.php?gid=7070201\n",
      "http://www.imagefap.com/profile/nacktimnetz\n",
      "http://www.imagefap.com/gallery.php?gid=7070127\n",
      "http://www.imagefap.com/profile/Windstorm17\n",
      "http://www.imagefap.com/gallery.php?gid=7069425\n",
      "http://www.imagefap.com/profile/susiwil666\n",
      "http://www.imagefap.com/gallery.php?gid=7069396\n",
      "http://www.imagefap.com/profile/susiwil666\n",
      "http://www.imagefap.com/gallery.php?gid=7069212\n",
      "http://www.imagefap.com/profile/Gemorrah\n",
      "http://www.imagefap.com/gallery.php?gid=7069134\n",
      "http://www.imagefap.com/profile/maj16\n",
      "http://www.imagefap.com/gallery.php?gid=7068369\n",
      "http://www.imagefap.com/profile/Serpentinestyle\n",
      "http://www.imagefap.com/gallery.php?gid=7068229\n",
      "http://www.imagefap.com/profile/Negro2000\n",
      "http://www.imagefap.com/gallery.php?gid=7067024\n",
      "http://www.imagefap.com/profile/vintage-love\n",
      "http://www.imagefap.com/gallery.php?gid=7066989\n",
      "http://www.imagefap.com/profile/fruhrhope\n",
      "http://www.imagefap.com/gallery.php?gid=7066148\n",
      "http://www.imagefap.com/profile/susiwil666\n",
      "http://www.imagefap.com/gallery.php?gid=7066113\n",
      "http://www.imagefap.com/profile/pilpil7\n"
     ]
    }
   ],
   "source": [
    "trade_spider(3)"
   ]
  },
  {
   "cell_type": "code",
   "execution_count": 32,
   "metadata": {
    "collapsed": true
   },
   "outputs": [],
   "source": [
    "def get_single_item_data(item_url):\n",
    "    source_code = requests.get(item_url)\n",
    "    plain_text = source_code.text\n",
    "    soup = BeautifulSoup(plain_text)\n",
    "    \n",
    "    for item_name in soup.findAll('div', {'id': 'cnt_cats'}):\n",
    "        links = item_name.find('a').contents[0]\n",
    "        print(links)"
   ]
  },
  {
   "cell_type": "code",
   "execution_count": 33,
   "metadata": {},
   "outputs": [
    {
     "name": "stderr",
     "output_type": "stream",
     "text": [
      "C:\\ProgramData\\Anaconda3\\lib\\site-packages\\bs4\\__init__.py:181: UserWarning: No parser was explicitly specified, so I'm using the best available HTML parser for this system (\"lxml\"). This usually isn't a problem, but if you run this code on another system, or in a different virtual environment, it may use a different parser and behave differently.\n",
      "\n",
      "The code that caused this warning is on line 193 of the file C:\\ProgramData\\Anaconda3\\lib\\runpy.py. To get rid of this warning, change code that looks like this:\n",
      "\n",
      " BeautifulSoup(YOUR_MARKUP})\n",
      "\n",
      "to this:\n",
      "\n",
      " BeautifulSoup(YOUR_MARKUP, \"lxml\")\n",
      "\n",
      "  markup_type=markup_type))\n"
     ]
    },
    {
     "name": "stdout",
     "output_type": "stream",
     "text": [
      "Amateur\n",
      "Big Tits\n",
      "Mature\n",
      "Voyeur\n",
      "Amateur\n",
      "Amateur\n",
      "Amateur\n",
      "Voyeur\n",
      "Big Tits\n",
      "Amateur\n",
      "Downblouse\n",
      "Masturbation\n",
      "Masturbation\n",
      "Amateur\n",
      "Upskirt\n",
      "Upskirt\n",
      "Amateur\n",
      "Voyeur\n",
      "Voyeur\n",
      "Big Tits\n",
      "Fetish\n",
      "Amateur\n",
      "Amateur\n",
      "Downblouse\n",
      "Downblouse\n"
     ]
    }
   ],
   "source": [
    "trade_spider(2)"
   ]
  },
  {
   "cell_type": "code",
   "execution_count": null,
   "metadata": {
    "collapsed": true
   },
   "outputs": [],
   "source": []
  }
 ],
 "metadata": {
  "kernelspec": {
   "display_name": "Python 3",
   "language": "python",
   "name": "python3"
  },
  "language_info": {
   "codemirror_mode": {
    "name": "ipython",
    "version": 3
   },
   "file_extension": ".py",
   "mimetype": "text/x-python",
   "name": "python",
   "nbconvert_exporter": "python",
   "pygments_lexer": "ipython3",
   "version": "3.6.1"
  }
 },
 "nbformat": 4,
 "nbformat_minor": 2
}
