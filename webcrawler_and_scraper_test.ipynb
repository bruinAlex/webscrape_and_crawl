{
 "cells": [
  {
   "cell_type": "markdown",
   "metadata": {},
   "source": [
    "Scraping Tutorial\n",
    "https://www.youtube.com/watch?v=XjNm9bazxn8&index=5&list=WL"
   ]
  },
  {
   "cell_type": "code",
   "execution_count": 88,
   "metadata": {
    "collapsed": true
   },
   "outputs": [],
   "source": [
    "import requests\n",
    "from bs4 import BeautifulSoup\n",
    "import json\n",
    "import datetime"
   ]
  },
  {
   "cell_type": "code",
   "execution_count": null,
   "metadata": {
    "collapsed": true
   },
   "outputs": [],
   "source": [
    "def the_numbers_spider(max_pages):\n",
    "    # Basic BS4 test to find our table data. Returns too much stuff.\n",
    "    page = 1\n",
    "    while page <= max_pages:\n",
    "        url = \"http://www.the-numbers.com/box-office-chart/weekly/1991/12/27\"\n",
    "        source_code = requests.get(url)\n",
    "        plain_text = source_code.text\n",
    "        soup = BeautifulSoup(plain_text, 'lxml')\n",
    "        \n",
    "        for tableData in soup.find_all('div', {'id': 'page_filling_chart'})[1]:\n",
    "            soup2 = BeautifulSoup(tableData, 'lxml') # Create a new soup with the find_all method available\n",
    "            rowData = soup2.find_all('td')\n",
    "            print(type(rowData))\n",
    "#             title = link.get('title')\n",
    "            print(rowData)\n",
    "#             get_single_item_data(href)\n",
    "            \n",
    "        page += 1\n"
   ]
  },
  {
   "cell_type": "code",
   "execution_count": null,
   "metadata": {
    "collapsed": true
   },
   "outputs": [],
   "source": [
    "def the_numbers_spider(max_pages):\n",
    "    # Parent Test. This returns the table we want, but still has extra header info we don't want.\n",
    "    page = 1\n",
    "    while page <= max_pages:\n",
    "        url = \"http://www.the-numbers.com/box-office-chart/weekly/1991/12/27\"\n",
    "        source_code = requests.get(url)\n",
    "        plain_text = source_code.text\n",
    "        soup = BeautifulSoup(plain_text, 'lxml')\n",
    "        \n",
    "        parentEl = soup.find('td', {'class': 'data'}).parent.parent\n",
    "#             soup2 = BeautifulSoup(tableData, 'lxml') # Create a new soup with the find_all method available\n",
    "#             rowData = soup2.find_all('td')\n",
    "#             print(type(rowData))\n",
    "#             href = \"http://www.imagefap.com\" + link.get('href')\n",
    "#             title = link.get('title')\n",
    "        print(parentEl)\n",
    "    \n",
    "#             get_single_item_data(href)\n",
    "            \n",
    "        page += 1\n"
   ]
  },
  {
   "cell_type": "code",
   "execution_count": 140,
   "metadata": {},
   "outputs": [],
   "source": [
    "def the_numbers_spider(max_pages):\n",
    "    # BS4 pulls the table, converts the results into a string, then recreates a new soup so that the text method can be run on it.\n",
    "    page = 1\n",
    "    \n",
    "    # Dict to hold weekly data\n",
    "    weeklyData = {}\n",
    "    weekEnded = str(datetime.date(1991, 12, 27))\n",
    "    \n",
    "    \n",
    "    while page <= max_pages:\n",
    "        url = \"http://www.the-numbers.com/box-office-chart/weekly/1991/12/27\"\n",
    "        source_code = requests.get(url)\n",
    "        plain_text = source_code.text\n",
    "        soup = BeautifulSoup(plain_text, 'lxml')\n",
    "        \n",
    "        tableRows = soup.find_all('table')[1].find_all('tr')\n",
    "        for row in tableRows[1:]:\n",
    "            title = row.a.get_text()\n",
    "            weeklyData[title] = {}\n",
    "#             date = datetime.date(1991, 12, 27) # Change to get date from weblink or a date variable (prob latter)\n",
    "            weeklyData[title]['weekEnded'] = weekEnded\n",
    "            weeklyData[title]['currentRank'] = row.td.get_text()\n",
    "            weeklyData[title]['prevRank'] = row.select('td')[1].get_text(strip=True)[1:-1] # Ignores the parens\n",
    "            weeklyData[title]['distributor'] = row.select('a')[1].get_text(strip=True)\n",
    "            weeklyData[title]['gross'] = row.select('td')[4].get_text(strip=True)\n",
    "            weeklyData[title]['change'] = row.select('td')[5].get_text(strip=True)\n",
    "            weeklyData[title]['theaters'] = row.select('td')[6].get_text(strip=True)\n",
    "            weeklyData[title]['perThtr'] = row.select('td')[7].get_text(strip=True)\n",
    "            weeklyData[title]['totalGross'] = row.select('td')[8].get_text(strip=True)\n",
    "            weeklyData[title]['grossDays'] = row.select('td')[9].get_text(strip=True)\n",
    "            #Change\tThtrs.\tPer Thtr.\tTotal Gross\tDays\n",
    "            \n",
    "        print(weeklyData)\n",
    "        \n",
    "#         parentEl = soup.find('td', {'class': 'data'}).parent\n",
    "# #             soup2 = BeautifulSoup(tableData, 'lxml') # Create a new soup with the find_all method available\n",
    "# #             rowData = soup2.find_all('td')\n",
    "# #             print(type(rowData))\n",
    "\n",
    "#         print(parentEl)\n",
    "# ###########################################\n",
    "#         parentEl = soup.find_all('td', {'class': 'data'})\n",
    "# #         print(parentEl)\n",
    "# #         plain_text = parentEl\n",
    "#         parentEl = str(parentEl)\n",
    "#         soup2 = BeautifulSoup(parentEl, 'lxml')\n",
    "# #         rowData = soup2.find_all('td')\n",
    "# #         print(rowData)\n",
    "    \n",
    "#         for row in soup2.find_all('td'):\n",
    "#             print(row.text)\n",
    "# ###########################################\n",
    "            \n",
    "\n",
    "\n",
    "\n",
    "#         # Prints out the td text and that's it\n",
    "#         for td in soup.find_all('table')[1].find_all('td'):\n",
    "#             print(td.text)\n",
    "\n",
    "\n",
    "######### Create an empty list, and add the html data as string into the list\n",
    "#         containerList = []\n",
    "\n",
    "#         for siblings in parentEl.next_siblings:\n",
    "# #             print(type(siblings))\n",
    "# #             print(siblings)\n",
    "#             containerList.append(str(siblings))\n",
    "        \n",
    "#         stringList = ''.join(containerList)\n",
    "\n",
    "#         soup2 = BeautifulSoup(stringList, 'lxml')\n",
    "        \n",
    "# #         print(soup2)\n",
    "# #         print(soup2.text)\n",
    "# #         print(parentEl.next_siblings)\n",
    "    \n",
    "# #             get_single_item_data(href)\n",
    "#####################################################################\n",
    "        \n",
    "    \n",
    "    \n",
    "    \n",
    "    \n",
    "        page += 1\n",
    "        \n",
    "#     print(type(soup2))\n",
    "        \n",
    "#     print()\n",
    "    \n",
    "#     with open('numbers_test.txt', mode='wt', encoding='utf-8') as file:\n",
    "#         file.write(soup2.text)\n",
    "        \n",
    "#     with open('numbers_test_json.txt', mode='wt', encoding='utf-8') as file:\n",
    "#         json.dump(soup2, file)\n",
    "        \n",
    "    print(\"done!\")"
   ]
  },
  {
   "cell_type": "code",
   "execution_count": 141,
   "metadata": {},
   "outputs": [
    {
     "name": "stdout",
     "output_type": "stream",
     "text": [
      "{'The Prince of Tides': {'totalGross': '$22,783,915', 'theaters': '1,405', 'gross': '$17,402,458', 'change': '', 'weekEnded': '1991-12-27', 'distributor': 'Sony Pictures', 'perThtr': '$12,386', 'currentRank': '4', 'prevRank': '-', 'grossDays': '9'}, 'Star Trek VI: The Undiscove…': {'totalGross': '$55,862,004', 'theaters': '2,147', 'gross': '$12,241,143', 'change': '+14%', 'weekEnded': '1991-12-27', 'distributor': 'Paramount Pictures', 'perThtr': '$5,702', 'currentRank': '7', 'prevRank': '5', 'grossDays': '28'}, 'The Last Boy Scout': {'totalGross': '$36,729,858', 'theaters': '1,823', 'gross': '$14,284,379', 'change': '+22%', 'weekEnded': '1991-12-27', 'distributor': 'Warner Bros.', 'perThtr': '$7,836', 'currentRank': '5', 'prevRank': '4', 'grossDays': '21'}, 'Bugsy': {'totalGross': '$19,947,312', 'theaters': '1,244', 'gross': '$10,904,293', 'change': '+24%', 'weekEnded': '1991-12-27', 'distributor': 'Sony/TriStar', 'perThtr': '$8,766', 'currentRank': '9', 'prevRank': '7', 'grossDays': '21'}, 'Hook': {'totalGross': '$70,595,385', 'theaters': '2,238', 'gross': '$28,500,930', 'change': '+36%', 'weekEnded': '1991-12-27', 'distributor': 'Sony Pictures', 'perThtr': '$12,735', 'currentRank': '1', 'prevRank': '1', 'grossDays': '23'}, 'Father of the Bride': {'totalGross': '$34,192,464', 'theaters': '1,579', 'gross': '$19,744,668', 'change': '+37%', 'weekEnded': '1991-12-27', 'distributor': 'Walt Disney', 'perThtr': '$12,505', 'currentRank': '3', 'prevRank': '2', 'grossDays': '14'}, 'Beauty and the Beast': {'totalGross': '$73,666,063', 'theaters': '1,940', 'gross': '$20,645,736', 'change': '+74%', 'weekEnded': '1991-12-27', 'distributor': 'Walt Disney', 'perThtr': '$10,642', 'currentRank': '2', 'prevRank': '3', 'grossDays': '51'}, 'The Addams Family': {'totalGross': '$93,846,706', 'theaters': '2,122', 'gross': '$11,264,036', 'change': '+47%', 'weekEnded': '1991-12-27', 'distributor': 'Paramount Pictures', 'perThtr': '$5,308', 'currentRank': '8', 'prevRank': '8', 'grossDays': '42'}, 'JFK': {'totalGross': '$24,031,889', 'theaters': '1,164', 'gross': '$13,849,169', 'change': '+36%', 'weekEnded': '1991-12-27', 'distributor': 'Warner Bros.', 'perThtr': '$11,898', 'currentRank': '6', 'prevRank': '6', 'grossDays': '14'}, 'My Girl': {'totalGross': '$44,967,374', 'theaters': '1,620', 'gross': '$7,822,816', 'change': '+53%', 'weekEnded': '1991-12-27', 'distributor': 'Sony Pictures', 'perThtr': '$4,829', 'currentRank': '10', 'prevRank': '9', 'grossDays': '37'}}\n",
      "done!\n"
     ]
    }
   ],
   "source": [
    "the_numbers_spider(1)"
   ]
  },
  {
   "cell_type": "code",
   "execution_count": null,
   "metadata": {
    "collapsed": true
   },
   "outputs": [],
   "source": [
    "def get_single_item_data(item_url):\n",
    "    source_code = requests.get(item_url)\n",
    "    plain_text = source_code.text\n",
    "    soup = BeautifulSoup(plain_text)\n",
    "    \n",
    "    for item_name in soup.findAll('div', {'id': 'cnt_cats'}):\n",
    "        links = item_name.find('a').contents[0]\n",
    "        print(links)"
   ]
  },
  {
   "cell_type": "code",
   "execution_count": null,
   "metadata": {
    "collapsed": true
   },
   "outputs": [],
   "source": [
    "trade_spider(2)"
   ]
  },
  {
   "cell_type": "code",
   "execution_count": null,
   "metadata": {
    "collapsed": true
   },
   "outputs": [],
   "source": []
  }
 ],
 "metadata": {
  "kernelspec": {
   "display_name": "Python [default]",
   "language": "python",
   "name": "python3"
  },
  "language_info": {
   "codemirror_mode": {
    "name": "ipython",
    "version": 3
   },
   "file_extension": ".py",
   "mimetype": "text/x-python",
   "name": "python",
   "nbconvert_exporter": "python",
   "pygments_lexer": "ipython3",
   "version": "3.5.2"
  }
 },
 "nbformat": 4,
 "nbformat_minor": 2
}
