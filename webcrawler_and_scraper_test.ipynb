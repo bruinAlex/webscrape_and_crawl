{
 "cells": [
  {
   "cell_type": "markdown",
   "metadata": {},
   "source": [
    "Scraping Tutorial\n",
    "https://www.youtube.com/watch?v=XjNm9bazxn8&index=5&list=WL"
   ]
  },
  {
   "cell_type": "code",
   "execution_count": 88,
   "metadata": {
    "collapsed": true
   },
   "outputs": [],
   "source": [
    "import requests\n",
    "from bs4 import BeautifulSoup\n",
    "import json\n",
    "import datetime"
   ]
  },
  {
   "cell_type": "code",
   "execution_count": null,
   "metadata": {
    "collapsed": true
   },
   "outputs": [],
   "source": [
    "def the_numbers_spider(max_pages):\n",
    "    # Basic BS4 test to find our table data. Returns too much stuff.\n",
    "    page = 1\n",
    "    while page <= max_pages:\n",
    "        url = \"http://www.the-numbers.com/box-office-chart/weekly/1991/12/27\"\n",
    "        source_code = requests.get(url)\n",
    "        plain_text = source_code.text\n",
    "        soup = BeautifulSoup(plain_text, 'lxml')\n",
    "        \n",
    "        for tableData in soup.find_all('div', {'id': 'page_filling_chart'})[1]:\n",
    "            soup2 = BeautifulSoup(tableData, 'lxml') # Create a new soup with the find_all method available\n",
    "            rowData = soup2.find_all('td')\n",
    "            print(type(rowData))\n",
    "#             title = link.get('title')\n",
    "            print(rowData)\n",
    "#             get_single_item_data(href)\n",
    "            \n",
    "        page += 1\n"
   ]
  },
  {
   "cell_type": "code",
   "execution_count": null,
   "metadata": {
    "collapsed": true
   },
   "outputs": [],
   "source": [
    "def the_numbers_spider(max_pages):\n",
    "    # Parent Test. This returns the table we want, but still has extra header info we don't want.\n",
    "    page = 1\n",
    "    while page <= max_pages:\n",
    "        url = \"http://www.the-numbers.com/box-office-chart/weekly/1991/12/27\"\n",
    "        source_code = requests.get(url)\n",
    "        plain_text = source_code.text\n",
    "        soup = BeautifulSoup(plain_text, 'lxml')\n",
    "        \n",
    "        parentEl = soup.find('td', {'class': 'data'}).parent.parent\n",
    "#             soup2 = BeautifulSoup(tableData, 'lxml') # Create a new soup with the find_all method available\n",
    "#             rowData = soup2.find_all('td')\n",
    "#             print(type(rowData))\n",
    "#             href = \"http://www.imagefap.com\" + link.get('href')\n",
    "#             title = link.get('title')\n",
    "        print(parentEl)\n",
    "    \n",
    "#             get_single_item_data(href)\n",
    "            \n",
    "        page += 1\n"
   ]
  },
  {
   "cell_type": "code",
   "execution_count": 186,
   "metadata": {},
   "outputs": [],
   "source": [
    "def the_numbers_spider(max_pages):\n",
    "    # BS4 pulls the table, converts the results into a string, then recreates a new soup so that the text method can be run on it.\n",
    "    page = 1\n",
    "    \n",
    "    # Dict to hold weekly data\n",
    "    weeklyData = {}\n",
    "    weekEnded = str(datetime.date(1991, 12, 27))\n",
    "    date = datetime.date(1991, 12, 27)\n",
    "    dateString = str(date)\n",
    "    \n",
    "    while page <= max_pages:\n",
    "#         url = \"http://www.the-numbers.com/box-office-chart/weekly/1991/12/27\"\n",
    "        url = \"http://www.the-numbers.com/box-office-chart/weekly/\" + dateString[0:4] + \"/\" + dateString[5:7] + \"/\" + dateString[8:10]\n",
    "        print(url)\n",
    "        print(dateString)\n",
    "        source_code = requests.get(url)\n",
    "        plain_text = source_code.text\n",
    "        soup = BeautifulSoup(plain_text, 'lxml')\n",
    "        \n",
    "        tableRows = soup.find_all('table')[1].find_all('tr')\n",
    "        for row in tableRows[1:]:\n",
    "            title = row.a.get_text()\n",
    "            weeklyData[title] = {}\n",
    "#             date = datetime.date(1991, 12, 27) # Change to get date from weblink or a date variable (prob latter)\n",
    "            weeklyData[title]['weekEnded'] = weekEnded\n",
    "            weeklyData[title]['currentRank'] = row.td.get_text()\n",
    "            weeklyData[title]['prevRank'] = row.select('td')[1].get_text(strip=True)[1:-1] # Ignores the parens\n",
    "            weeklyData[title]['distributor'] = row.select('a')[1].get_text(strip=True)\n",
    "            weeklyData[title]['gross'] = int(row.select('td')[4].get_text(strip=True)[1:].replace(\",\", \"\")) # Finds the string for gross rev, strips lead/trailing spaces, replaces the commas with nothing, and ignores the first char which is a dollar sign. Whew.\n",
    "            weeklyData[title]['change'] = row.select('td')[5].get_text(strip=True)\n",
    "            weeklyData[title]['theaters'] = int(row.select('td')[6].get_text(strip=True).replace(\",\", \"\"))\n",
    "            weeklyData[title]['perThtr'] = int(row.select('td')[7].get_text(strip=True)[1:].replace(\",\", \"\"))\n",
    "            weeklyData[title]['totalGross'] = int(row.select('td')[8].get_text(strip=True)[1:].replace(\",\", \"\"))\n",
    "            weeklyData[title]['grossDays'] = int(row.select('td')[9].get_text(strip=True).replace(\",\", \"\"))\n",
    "            #Change\tThtrs.\tPer Thtr.\tTotal Gross\tDays\n",
    "            \n",
    "        print(weeklyData)\n",
    "        \n",
    "#         parentEl = soup.find('td', {'class': 'data'}).parent\n",
    "# #             soup2 = BeautifulSoup(tableData, 'lxml') # Create a new soup with the find_all method available\n",
    "# #             rowData = soup2.find_all('td')\n",
    "# #             print(type(rowData))\n",
    "\n",
    "#         print(parentEl)\n",
    "# ###########################################\n",
    "#         parentEl = soup.find_all('td', {'class': 'data'})\n",
    "# #         print(parentEl)\n",
    "# #         plain_text = parentEl\n",
    "#         parentEl = str(parentEl)\n",
    "#         soup2 = BeautifulSoup(parentEl, 'lxml')\n",
    "# #         rowData = soup2.find_all('td')\n",
    "# #         print(rowData)\n",
    "    \n",
    "#         for row in soup2.find_all('td'):\n",
    "#             print(row.text)\n",
    "# ###########################################\n",
    "            \n",
    "\n",
    "\n",
    "\n",
    "#         # Prints out the td text and that's it\n",
    "#         for td in soup.find_all('table')[1].find_all('td'):\n",
    "#             print(td.text)\n",
    "\n",
    "\n",
    "######### Create an empty list, and add the html data as string into the list\n",
    "#         containerList = []\n",
    "\n",
    "#         for siblings in parentEl.next_siblings:\n",
    "# #             print(type(siblings))\n",
    "# #             print(siblings)\n",
    "#             containerList.append(str(siblings))\n",
    "        \n",
    "#         stringList = ''.join(containerList)\n",
    "\n",
    "#         soup2 = BeautifulSoup(stringList, 'lxml')\n",
    "        \n",
    "# #         print(soup2)\n",
    "# #         print(soup2.text)\n",
    "# #         print(parentEl.next_siblings)\n",
    "    \n",
    "# #             get_single_item_data(href)\n",
    "#####################################################################\n",
    "        \n",
    "    \n",
    "    \n",
    "    \n",
    "    \n",
    "        page += 1\n",
    "        \n",
    "#     print(type(soup2))\n",
    "        \n",
    "#     print()\n",
    "    \n",
    "#     with open('numbers_test.txt', mode='wt', encoding='utf-8') as file:\n",
    "#         file.write(soup2.text)\n",
    "        \n",
    "    with open('numbers_test.json', mode='wt', encoding='utf-8') as file:\n",
    "        json.dump(weeklyData, file)\n",
    "        \n",
    "    print(\"done!\")"
   ]
  },
  {
   "cell_type": "code",
   "execution_count": 213,
   "metadata": {
    "collapsed": true
   },
   "outputs": [],
   "source": [
    "def the_numbers_spider(max_pages):\n",
    "    # BS4 pulls the table, converts the results into a string, then recreates a new soup so that the text method can be run on it.\n",
    "    page = 1\n",
    "    \n",
    "    # Dict to hold weekly data\n",
    "    weeklyData = {}\n",
    "    \n",
    "    # Declare starting dates. This will be changed to the first weekly report back in 1977.\n",
    "    date = datetime.date(1991, 12, 27) # This creates a datetime object that is not sliceable like a string is.\n",
    "    dateString = str(date)\n",
    "    \n",
    "    while page <= max_pages:\n",
    "        url = \"http://www.the-numbers.com/box-office-chart/weekly/\" + dateString[0:4] + \"/\" + dateString[5:7] + \"/\" + dateString[8:10]\n",
    "#         print(url)\n",
    "#         print(dateString)\n",
    "        source_code = requests.get(url)\n",
    "        plain_text = source_code.text\n",
    "        soup = BeautifulSoup(plain_text, 'lxml')\n",
    "        \n",
    "        # Store all the table rows in the second table as a BS4 object.\n",
    "        tableRows = soup.find_all('table')[1].find_all('tr')\n",
    "        \n",
    "        # Save the data into the dictionary.\n",
    "        # TODO: clean up more of the data types.\n",
    "        for row in tableRows[1:]:\n",
    "            title = row.a.get_text()\n",
    "            weeklyData[title] = {}\n",
    "            weeklyData[title]['weekEnded'] = dateString\n",
    "            weeklyData[title]['currentRank'] = row.td.get_text()\n",
    "            weeklyData[title]['prevRank'] = row.select('td')[1].get_text(strip=True)[1:-1] # Ignores the parens\n",
    "            weeklyData[title]['distributor'] = row.select('a')[1].get_text(strip=True)\n",
    "            weeklyData[title]['gross'] = int(row.select('td')[4].get_text(strip=True)[1:].replace(\",\", \"\")) # Finds the string for gross rev, strips lead/trailing spaces, replaces the commas with nothing, and ignores the first char which is a dollar sign. Whew.\n",
    "            weeklyData[title]['change'] = row.select('td')[5].get_text(strip=True)\n",
    "            weeklyData[title]['theaters'] = int(row.select('td')[6].get_text(strip=True).replace(\",\", \"\"))\n",
    "            weeklyData[title]['perThtr'] = int(row.select('td')[7].get_text(strip=True)[1:].replace(\",\", \"\"))\n",
    "            weeklyData[title]['totalGross'] = int(row.select('td')[8].get_text(strip=True)[1:].replace(\",\", \"\"))\n",
    "            weeklyData[title]['grossDays'] = int(row.select('td')[9].get_text(strip=True).replace(\",\", \"\"))\n",
    "            \n",
    "#         # Debug print.\n",
    "#         print(weeklyData)\n",
    "\n",
    "        # Dump the dict into a json file.\n",
    "        # Will think about writing it all to one giant file.\n",
    "        with open('the-numbers_weekly ' + dateString + \".json\", mode='wt', encoding='utf-8') as file:\n",
    "            json.dump(weeklyData, file)\n",
    "            \n",
    "        # Increment operations\n",
    "        date += datetime.timedelta(days=7)\n",
    "        dateString = str(date)            \n",
    "        page += 1\n",
    "        \n",
    "    print(\"done!\")"
   ]
  },
  {
   "cell_type": "code",
   "execution_count": 214,
   "metadata": {},
   "outputs": [
    {
     "name": "stdout",
     "output_type": "stream",
     "text": [
      "done!\n"
     ]
    }
   ],
   "source": [
    "the_numbers_spider(3)"
   ]
  },
  {
   "cell_type": "code",
   "execution_count": null,
   "metadata": {
    "collapsed": true
   },
   "outputs": [],
   "source": [
    "def get_single_item_data(item_url):\n",
    "    source_code = requests.get(item_url)\n",
    "    plain_text = source_code.text\n",
    "    soup = BeautifulSoup(plain_text)\n",
    "    \n",
    "    for item_name in soup.findAll('div', {'id': 'name'}):\n",
    "        links = item_name.find('a').contents[0]\n",
    "        print(links)"
   ]
  },
  {
   "cell_type": "code",
   "execution_count": null,
   "metadata": {
    "collapsed": true
   },
   "outputs": [],
   "source": [
    "trade_spider(2)"
   ]
  },
  {
   "cell_type": "code",
   "execution_count": null,
   "metadata": {
    "collapsed": true
   },
   "outputs": [],
   "source": []
  }
 ],
 "metadata": {
  "kernelspec": {
   "display_name": "Python [default]",
   "language": "python",
   "name": "python3"
  },
  "language_info": {
   "codemirror_mode": {
    "name": "ipython",
    "version": 3
   },
   "file_extension": ".py",
   "mimetype": "text/x-python",
   "name": "python",
   "nbconvert_exporter": "python",
   "pygments_lexer": "ipython3",
   "version": "3.5.2"
  }
 },
 "nbformat": 4,
 "nbformat_minor": 2
}
